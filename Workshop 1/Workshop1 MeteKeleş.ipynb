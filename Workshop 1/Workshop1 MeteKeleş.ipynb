{
 "cells": [
  {
   "cell_type": "markdown",
   "id": "40cb8646",
   "metadata": {},
   "source": [
    "<center><h1>bogaziciAI Winter Camp</h1></center>\n",
    "<center><h2>Workshop 1</h2></center>"
   ]
  },
  {
   "cell_type": "markdown",
   "id": "e2f25a9d",
   "metadata": {},
   "source": [
    "<center><h3>Grading Table</h3></center>"
   ]
  },
  {
   "cell_type": "markdown",
   "id": "0db49ba8",
   "metadata": {},
   "source": [
    "|             | Part 1 | Part 2      | Part 3 | General Otline      | Total |\n",
    "| ----------- | ----------- | ----------- | ----------- | ----------- | ----------- |\n",
    "| **Points**      | 30     | 30          | 30     | 10                  | 100   |"
   ]
  },
  {
   "cell_type": "code",
   "execution_count": 4,
   "id": "8ba3f3b7",
   "metadata": {},
   "outputs": [],
   "source": [
    "import warnings\n",
    "warnings.filterwarnings('ignore')\n",
    "\n",
    "# fundamental modules\n",
    "import numpy as np\n",
    "import pandas as pd\n",
    "\n",
    "# sklearn\n",
    "from sklearn.preprocessing import PolynomialFeatures\n",
    "from sklearn.linear_model import LinearRegression\n",
    "from sklearn.model_selection import train_test_split\n",
    "from sklearn.preprocessing import StandardScaler\n",
    "\n",
    "# you can use for visualization\n",
    "import seaborn as sns\n",
    "import matplotlib.pyplot as plt\n",
    "\n",
    "# you can import any additional module you like"
   ]
  },
  {
   "cell_type": "code",
   "execution_count": 5,
   "id": "0b60f3ce",
   "metadata": {},
   "outputs": [
    {
     "data": {
      "text/html": [
       "<div>\n",
       "<style scoped>\n",
       "    .dataframe tbody tr th:only-of-type {\n",
       "        vertical-align: middle;\n",
       "    }\n",
       "\n",
       "    .dataframe tbody tr th {\n",
       "        vertical-align: top;\n",
       "    }\n",
       "\n",
       "    .dataframe thead th {\n",
       "        text-align: right;\n",
       "    }\n",
       "</style>\n",
       "<table border=\"1\" class=\"dataframe\">\n",
       "  <thead>\n",
       "    <tr style=\"text-align: right;\">\n",
       "      <th></th>\n",
       "      <th>No</th>\n",
       "      <th>transactiondate</th>\n",
       "      <th>houseage</th>\n",
       "      <th>distancetostation</th>\n",
       "      <th>numberofstores</th>\n",
       "      <th>latitude</th>\n",
       "      <th>longitude</th>\n",
       "      <th>housepriceofunitarea</th>\n",
       "    </tr>\n",
       "  </thead>\n",
       "  <tbody>\n",
       "    <tr>\n",
       "      <th>0</th>\n",
       "      <td>1</td>\n",
       "      <td>2012.917</td>\n",
       "      <td>32.0</td>\n",
       "      <td>84.87882</td>\n",
       "      <td>10</td>\n",
       "      <td>24.98298</td>\n",
       "      <td>121.54024</td>\n",
       "      <td>37.9</td>\n",
       "    </tr>\n",
       "    <tr>\n",
       "      <th>1</th>\n",
       "      <td>2</td>\n",
       "      <td>2012.917</td>\n",
       "      <td>19.5</td>\n",
       "      <td>306.59470</td>\n",
       "      <td>9</td>\n",
       "      <td>24.98034</td>\n",
       "      <td>121.53951</td>\n",
       "      <td>42.2</td>\n",
       "    </tr>\n",
       "    <tr>\n",
       "      <th>2</th>\n",
       "      <td>3</td>\n",
       "      <td>2013.583</td>\n",
       "      <td>13.3</td>\n",
       "      <td>561.98450</td>\n",
       "      <td>5</td>\n",
       "      <td>24.98746</td>\n",
       "      <td>121.54391</td>\n",
       "      <td>47.3</td>\n",
       "    </tr>\n",
       "    <tr>\n",
       "      <th>3</th>\n",
       "      <td>4</td>\n",
       "      <td>2013.500</td>\n",
       "      <td>13.3</td>\n",
       "      <td>561.98450</td>\n",
       "      <td>5</td>\n",
       "      <td>24.98746</td>\n",
       "      <td>121.54391</td>\n",
       "      <td>54.8</td>\n",
       "    </tr>\n",
       "    <tr>\n",
       "      <th>4</th>\n",
       "      <td>5</td>\n",
       "      <td>2012.833</td>\n",
       "      <td>5.0</td>\n",
       "      <td>390.56840</td>\n",
       "      <td>5</td>\n",
       "      <td>24.97937</td>\n",
       "      <td>121.54245</td>\n",
       "      <td>43.1</td>\n",
       "    </tr>\n",
       "  </tbody>\n",
       "</table>\n",
       "</div>"
      ],
      "text/plain": [
       "   No  transactiondate  houseage  distancetostation  numberofstores  latitude  \\\n",
       "0   1         2012.917      32.0           84.87882              10  24.98298   \n",
       "1   2         2012.917      19.5          306.59470               9  24.98034   \n",
       "2   3         2013.583      13.3          561.98450               5  24.98746   \n",
       "3   4         2013.500      13.3          561.98450               5  24.98746   \n",
       "4   5         2012.833       5.0          390.56840               5  24.97937   \n",
       "\n",
       "   longitude  housepriceofunitarea  \n",
       "0  121.54024                  37.9  \n",
       "1  121.53951                  42.2  \n",
       "2  121.54391                  47.3  \n",
       "3  121.54391                  54.8  \n",
       "4  121.54245                  43.1  "
      ]
     },
     "execution_count": 5,
     "metadata": {},
     "output_type": "execute_result"
    }
   ],
   "source": [
    "df = pd.read_csv('real_estate.csv')\n",
    "df.head()"
   ]
  },
  {
   "cell_type": "markdown",
   "id": "6721f9ff",
   "metadata": {},
   "source": [
    "# Task\n",
    "\n",
    "In this task, you are expected to:\n",
    "\n",
    "* Make a linear regression analysis.\n",
    "* Use the normal equation for your linear regression analysis to verify your results.\n",
    "* Make a polynomial regression analysis (You can decide on the Nth degree).\n",
    "\n",
    "<br>\n",
    "You can drop the features that you find unnecessary.\n",
    "<br>\n",
    "You can use sklearn module to perform your analysis.\n",
    "<br> \n",
    "It is advised to explore and visualize the dataset first."
   ]
  },
  {
   "cell_type": "markdown",
   "id": "1a5662ba",
   "metadata": {},
   "source": [
    "# Part 1"
   ]
  },
  {
   "cell_type": "code",
   "execution_count": 19,
   "id": "8e19a1b0",
   "metadata": {},
   "outputs": [
    {
     "data": {
      "text/plain": [
       "<matplotlib.collections.PathCollection at 0x1a591344730>"
      ]
     },
     "execution_count": 19,
     "metadata": {},
     "output_type": "execute_result"
    },
    {
     "data": {
      "image/png": "[encoded data removed]",
      "text/plain": [
       "<Figure size 432x288 with 1 Axes>"
      ]
     },
     "metadata": {
      "needs_background": "light"
     },
     "output_type": "display_data"
    }
   ],
   "source": [
    "plt.scatter(df.values[: , 0], df.values[: , 7])"
   ]
  },
  {
   "cell_type": "code",
   "execution_count": 20,
   "id": "b891cfbb",
   "metadata": {},
   "outputs": [
    {
     "data": {
      "text/plain": [
       "<matplotlib.collections.PathCollection at 0x1a58eb01f40>"
      ]
     },
     "execution_count": 20,
     "metadata": {},
     "output_type": "execute_result"
    },
    {
     "data": {
      "image/png": "[encoded data removed]",
      "text/plain": [
       "<Figure size 432x288 with 1 Axes>"
      ]
     },
     "metadata": {
      "needs_background": "light"
     },
     "output_type": "display_data"
    }
   ],
   "source": [
    "plt.scatter(df.values[: , 1], df.values[: , 7])"
   ]
  },
  {
   "cell_type": "code",
   "execution_count": 21,
   "id": "9c1fa7bf",
   "metadata": {},
   "outputs": [
    {
     "data": {
      "text/plain": [
       "<matplotlib.collections.PathCollection at 0x1a59140ffa0>"
      ]
     },
     "execution_count": 21,
     "metadata": {},
     "output_type": "execute_result"
    },
    {
     "data": {
      "image/png": "[encoded data removed]",
      "text/plain": [
       "<Figure size 432x288 with 1 Axes>"
      ]
     },
     "metadata": {
      "needs_background": "light"
     },
     "output_type": "display_data"
    }
   ],
   "source": [
    "plt.scatter(df.values[: , 2], df.values[: , 7])"
   ]
  },
  {
   "cell_type": "code",
   "execution_count": 22,
   "id": "2afa5a9c",
   "metadata": {},
   "outputs": [
    {
     "data": {
      "text/plain": [
       "<matplotlib.collections.PathCollection at 0x1a59146ffa0>"
      ]
     },
     "execution_count": 22,
     "metadata": {},
     "output_type": "execute_result"
    },
    {
     "data": {
      "image/png": "[encoded data removed]",
      "text/plain": [
       "<Figure size 432x288 with 1 Axes>"
      ]
     },
     "metadata": {
      "needs_background": "light"
     },
     "output_type": "display_data"
    }
   ],
   "source": [
    "plt.scatter(df.values[: , 3], df.values[: , 7])"
   ]
  },
  {
   "cell_type": "code",
   "execution_count": 23,
   "id": "d2a00d99",
   "metadata": {},
   "outputs": [
    {
     "data": {
      "text/plain": [
       "<matplotlib.collections.PathCollection at 0x1a5914d7820>"
      ]
     },
     "execution_count": 23,
     "metadata": {},
     "output_type": "execute_result"
    },
    {
     "data": {
      "image/png": "[encoded data removed]",
      "text/plain": [
       "<Figure size 432x288 with 1 Axes>"
      ]
     },
     "metadata": {
      "needs_background": "light"
     },
     "output_type": "display_data"
    }
   ],
   "source": [
    "plt.scatter(df.values[: , 4], df.values[: , 7])"
   ]
  },
  {
   "cell_type": "code",
   "execution_count": 24,
   "id": "deb243a8",
   "metadata": {},
   "outputs": [
    {
     "data": {
      "text/plain": [
       "<matplotlib.collections.PathCollection at 0x1a59153ec40>"
      ]
     },
     "execution_count": 24,
     "metadata": {},
     "output_type": "execute_result"
    },
    {
     "data": {
      "image/png": "[encoded data removed]",
      "text/plain": [
       "<Figure size 432x288 with 1 Axes>"
      ]
     },
     "metadata": {
      "needs_background": "light"
     },
     "output_type": "display_data"
    }
   ],
   "source": [
    "plt.scatter(df.values[: , 5], df.values[: , 7])"
   ]
  },
  {
   "cell_type": "code",
   "execution_count": 25,
   "id": "d4f2bd4d",
   "metadata": {},
   "outputs": [
    {
     "data": {
      "text/plain": [
       "<matplotlib.collections.PathCollection at 0x1a5915a2490>"
      ]
     },
     "execution_count": 25,
     "metadata": {},
     "output_type": "execute_result"
    },
    {
     "data": {
      "image/png": "[encoded data removed]",
      "text/plain": [
       "<Figure size 432x288 with 1 Axes>"
      ]
     },
     "metadata": {
      "needs_background": "light"
     },
     "output_type": "display_data"
    }
   ],
   "source": [
    "plt.scatter(df.values[: , 6], df.values[: , 7])"
   ]
  },
  {
   "cell_type": "code",
   "execution_count": 78,
   "id": "511cbb44",
   "metadata": {},
   "outputs": [
    {
     "data": {
      "text/plain": [
       "(0.5711617064827486,\n",
       " -4945.595113742862,\n",
       " array([-2.68916833e-01, -4.25908898e-03,  1.16302048e+00,  2.37767191e+02,\n",
       "        -7.80545273e+00]))"
      ]
     },
     "execution_count": 78,
     "metadata": {},
     "output_type": "execute_result"
    }
   ],
   "source": [
    "x = df.values[: , 2:7]\n",
    "y = df.values[: , 7]\n",
    "number_of_datapoints = len(y)\n",
    "lin_model = LinearRegression().fit(x,y)\n",
    "coef = lin_model.coef_\n",
    "intercept = lin_model.intercept_\n",
    "lin_model.score(x,y), intercept, coef\n"
   ]
  },
  {
   "cell_type": "markdown",
   "id": "00358a91",
   "metadata": {},
   "source": [
    "# Part 2"
   ]
  },
  {
   "cell_type": "code",
   "execution_count": 70,
   "id": "66bfa1f4",
   "metadata": {},
   "outputs": [
    {
     "data": {
      "text/plain": [
       "(414, 6)"
      ]
     },
     "execution_count": 70,
     "metadata": {},
     "output_type": "execute_result"
    }
   ],
   "source": [
    "x_1 = np.c_[np.ones(number_of_datapoints), x]\n",
    "x_1.shape"
   ]
  },
  {
   "cell_type": "code",
   "execution_count": 52,
   "id": "419bce30",
   "metadata": {},
   "outputs": [
    {
     "data": {
      "text/plain": [
       "(414,)"
      ]
     },
     "execution_count": 52,
     "metadata": {},
     "output_type": "execute_result"
    }
   ],
   "source": [
    "y.shape"
   ]
  },
  {
   "cell_type": "code",
   "execution_count": 93,
   "id": "81d2de5b",
   "metadata": {},
   "outputs": [
    {
     "data": {
      "text/plain": [
       "array([-4.94559517e+03, -2.68916833e-01, -4.25908898e-03,  1.16302048e+00,\n",
       "        2.37767190e+02, -7.80545215e+00])"
      ]
     },
     "execution_count": 93,
     "metadata": {},
     "output_type": "execute_result"
    }
   ],
   "source": [
    "w = np.linalg.solve(np.dot(x_1.T, x_1), np.dot(x_1.T, y))\n",
    "w"
   ]
  },
  {
   "cell_type": "markdown",
   "id": "85cb12f5",
   "metadata": {},
   "source": [
    "# Part 3"
   ]
  },
  {
   "cell_type": "code",
   "execution_count": 99,
   "id": "a96c5f46",
   "metadata": {},
   "outputs": [
    {
     "data": {
      "text/plain": [
       "(0.7262353848430131,\n",
       " -3362.546112130682,\n",
       " array([-2.65559190e-07,  3.19991085e-09,  2.24683393e-09, -5.57296910e-11,\n",
       "        -3.89838864e-11,  1.04639701e-09,  5.20482465e-10,  2.06350047e-09,\n",
       "        -4.41919607e-11,  1.89579271e-10,  1.28070854e-11,  1.33070312e-11,\n",
       "        -3.11843171e-11, -2.01980786e-11, -1.74320675e-12,  1.45715260e-13,\n",
       "        -7.25827110e-16, -1.38382483e-15, -3.69199605e-16,  2.31397150e-16,\n",
       "         2.44250187e-17, -1.24167712e-14, -2.25548665e-13, -1.80183632e-15,\n",
       "        -5.04124247e-14, -2.03103642e-15,  4.67465617e-13, -7.75080432e-14,\n",
       "         8.93888253e-14,  8.87623488e-14, -2.39099320e-14, -8.13197327e-15,\n",
       "         2.67719214e-16, -3.59505461e-14, -7.37253870e-14,  1.33262010e-13,\n",
       "        -2.44046252e-12,  2.22163352e-12,  6.22454735e-12,  3.01543766e-11,\n",
       "        -2.03724031e-14, -1.57900741e-14, -1.02258715e-13,  2.81692449e-13,\n",
       "         1.37726563e-12,  6.69828782e-12, -1.18384722e-13,  3.91974608e-15,\n",
       "         1.23661030e-14, -3.76104313e-15, -2.23145875e-14, -1.28418173e-13,\n",
       "         1.22890280e-15,  4.27618281e-15,  1.09953576e-14, -1.67067577e-15,\n",
       "         3.88199138e-12, -5.99715183e-12, -2.61259806e-12, -2.32076825e-12,\n",
       "        -1.16255094e-12, -4.38953980e-11, -1.23520373e-12, -7.89873701e-12,\n",
       "        -1.79880196e-11,  8.41086298e-12, -5.40879841e-13, -9.12777504e-14,\n",
       "        -2.48963714e-12, -6.02939967e-12,  2.80718412e-13, -8.90500376e-10,\n",
       "         3.10605784e-12,  8.21544783e-12,  3.74626430e-11,  2.31740175e-12,\n",
       "        -3.53740261e-12, -6.22496094e-12,  3.79555432e-12,  9.97543138e-12,\n",
       "         6.55586423e-12,  1.53078440e-12, -6.50267898e-13, -2.94388389e-12,\n",
       "        -4.02513878e-13, -9.63963790e-13,  1.50088876e-13, -1.45759126e-12,\n",
       "        -4.56168029e-12, -9.89306629e-12,  1.16755543e-11,  1.94013139e-09,\n",
       "         1.56425379e-09,  4.81497413e-11, -2.76146644e-10,  1.20818781e-11,\n",
       "         3.96505613e-11,  1.79772073e-10,  1.03449598e-10,  5.03859707e-10,\n",
       "         2.44077577e-09,  4.13728888e-12, -3.10386234e-13, -2.02731789e-12,\n",
       "        -1.00568592e-13, -1.07481122e-12, -8.31998823e-12,  4.60637412e-12,\n",
       "         2.27630344e-11,  1.11576514e-10,  5.42581255e-10, -2.88464398e-12,\n",
       "        -2.93123690e-12, -1.43871844e-11,  1.42610878e-13,  5.26634224e-13,\n",
       "         1.74737087e-12, -2.91527752e-14, -2.40392739e-13, -1.65678138e-12,\n",
       "        -1.04686135e-11,  3.73530726e-14,  1.47561244e-13,  5.13565679e-13,\n",
       "         1.31874155e-12, -2.28747769e-13, -2.08417429e-10, -2.63518844e-10,\n",
       "        -2.26140846e-10,  2.16208546e-11,  4.82544835e-10, -1.69747114e-09,\n",
       "        -7.13764525e-10, -9.68804411e-11, -3.38916808e-10,  9.48279785e-10,\n",
       "        -8.74514912e-11, -3.09075522e-10, -1.08199120e-10, -2.73583136e-10,\n",
       "        -9.98450036e-11,  1.19180032e-07, -4.14833237e-10, -9.93234716e-10,\n",
       "        -2.62254982e-09, -1.11130404e-09, -1.79181171e-10,  5.86662844e-11,\n",
       "        -2.54734395e-10, -7.25648758e-10, -1.04096284e-09,  3.18567496e-10,\n",
       "         2.06183175e-10,  1.02185437e-09, -2.58356723e-11, -6.22887112e-11,\n",
       "         5.71257849e-12, -9.28718042e-11, -2.99945760e-10, -7.19824772e-10,\n",
       "         9.79006708e-11,  7.34884971e-10,  6.99677177e-09, -9.90636874e-09,\n",
       "        -5.49591495e-08,  8.22710450e-11, -1.56453798e-09,  3.64969145e-10,\n",
       "         8.96017229e-11,  4.73584017e-10,  2.25463664e-09,  5.02676354e-10,\n",
       "         2.70166900e-11,  3.02133174e-10, -1.28557979e-10, -3.50005880e-10,\n",
       "        -3.67552669e-10,  1.32917667e-10,  4.38560787e-10,  1.10450607e-09,\n",
       "         2.85347246e-10,  6.66495772e-11,  3.81696460e-11,  1.85257444e-10,\n",
       "        -1.75643391e-11, -7.99736982e-11, -3.62370953e-10, -1.50366140e-11,\n",
       "        -4.83245318e-11, -1.14240960e-10,  3.25156516e-11, -5.04032352e-11,\n",
       "        -1.81970160e-10, -5.77776744e-10, -1.31564839e-09,  8.69830008e-10,\n",
       "        -2.51424645e-11, -7.61680898e-09,  2.45889806e-07, -4.91707877e-08,\n",
       "         1.16235812e-08,  1.95029970e-08,  9.50488696e-08,  1.58321171e-09,\n",
       "         1.97575774e-09, -2.15463446e-08, -2.66727381e-11,  1.02038404e-10,\n",
       "         7.47243496e-10,  5.89678071e-10,  2.56696584e-09,  1.08861196e-08,\n",
       "         1.26177436e-09,  6.24786826e-09,  3.05921044e-08,  1.48169071e-07,\n",
       "         2.31498954e-10,  1.07302340e-10,  5.05243272e-10, -2.84575084e-12,\n",
       "        -2.65026755e-11, -1.91814762e-10,  4.57898735e-12,  8.89594259e-12,\n",
       "        -2.78648796e-11, -5.11131232e-10,  5.34405203e-11,  2.73358298e-10,\n",
       "         1.37288064e-09,  6.78090153e-09,  3.29622516e-08, -3.98684548e-11,\n",
       "        -7.17203714e-11, -3.50740564e-10, -7.25723618e-11, -3.56228455e-10,\n",
       "        -1.74845078e-09,  4.67682428e-12,  1.85852591e-11,  7.01067211e-11,\n",
       "         2.42084068e-10,  8.80517713e-13,  1.86638694e-12, -2.87366644e-12,\n",
       "        -7.30772027e-11, -6.47620248e-10,  1.05483418e-12,  4.48679643e-12,\n",
       "         1.77394843e-11,  6.17774809e-11,  1.58660082e-10, -2.83738096e-11,\n",
       "        -9.57431755e-08,  2.28228288e-08, -5.88458937e-09, -7.96567901e-09,\n",
       "        -2.51645743e-08,  5.85656218e-11,  1.17860694e-07,  5.33550523e-09,\n",
       "        -2.23135504e-08,  6.11670019e-08, -6.54753915e-09, -2.71049962e-08,\n",
       "        -1.34090141e-09,  2.89453414e-09,  5.99524291e-08, -2.09027649e-12,\n",
       "        -1.11411576e-09,  1.86222455e-07, -3.81464111e-08,  1.13383603e-07,\n",
       "        -2.37633264e-08, -7.76631251e-08, -1.11926542e-09, -2.06914774e-09,\n",
       "         6.21143599e-09,  2.27040459e-08,  2.34955198e-08,  1.15276411e-07,\n",
       "        -2.73840455e-09, -1.04177019e-08, -3.65368065e-08, -3.95679153e-09,\n",
       "        -1.29394910e-08, -3.22201044e-08, -7.09636959e-09, -6.17007172e-15,\n",
       "         1.09292936e-11, -1.28285082e-09, -7.16904673e-10,  1.21025464e-08,\n",
       "        -7.80429695e-08,  1.54073957e-08, -2.31757595e-08, -5.44855739e-08,\n",
       "         1.21727093e-08,  6.33151788e-09, -2.98955220e-08, -1.33554880e-07,\n",
       "        -8.18535616e-09, -1.65633756e-08,  3.25096051e-08, -7.81839191e-09,\n",
       "        -2.51294416e-08, -5.96998554e-08,  1.27343329e-08,  6.72011538e-09,\n",
       "         7.93625948e-09,  3.86996812e-08,  5.05264266e-09,  2.50494410e-08,\n",
       "         1.24147337e-07, -9.53036105e-10, -3.05399026e-09, -7.15122767e-09,\n",
       "         2.73721235e-09, -3.08617635e-09, -1.12221434e-08, -3.61337315e-08,\n",
       "        -8.59077436e-08,  1.96564771e-08, -6.06078120e-17,  3.42595572e-13,\n",
       "        -1.33035477e-11, -3.30902321e-12,  9.95148613e-11,  6.97327674e-09,\n",
       "        -1.50885664e-09, -2.09368381e-08,  9.66836594e-09, -6.33580591e-10,\n",
       "        -4.34035340e-08, -3.06583269e-08,  2.39358197e-09, -8.02359927e-08,\n",
       "        -1.90493952e-07,  4.29512181e-08, -1.38022122e-09, -3.25793396e-09,\n",
       "        -4.90694671e-09,  1.13808581e-09,  2.52109057e-08,  1.23079813e-08,\n",
       "         6.12024453e-08, -9.70756266e-11,  3.79547875e-09,  3.92106697e-08,\n",
       "        -4.22084143e-09, -1.36283396e-08, -3.28220432e-08,  2.62471721e-09,\n",
       "         4.24940556e-09,  1.55752265e-08,  5.05522167e-08,  1.21197916e-07,\n",
       "        -2.71338967e-08,  1.38680701e-09,  1.66873724e-09,  8.08953394e-09,\n",
       "         9.51769504e-10,  4.61929826e-09,  2.24196758e-08, -4.71698907e-10,\n",
       "        -2.15826758e-09, -9.83425858e-09, -4.45981180e-08, -5.00043470e-10,\n",
       "        -1.81269820e-09, -5.80074073e-09, -1.35297407e-08,  5.68828564e-09,\n",
       "        -1.60898823e-09, -6.24659129e-09, -2.27014759e-08, -7.30593343e-08,\n",
       "        -1.73659813e-07,  3.90057580e-08,  1.98502171e-18, -3.59985823e-18,\n",
       "         1.56682098e-13,  1.74587492e-13, -1.81257442e-13,  8.83992372e-11,\n",
       "         4.44630360e-11,  4.11775578e-10, -2.20414127e-09,  4.24243562e-10,\n",
       "         3.41554407e-10,  2.33397637e-09, -6.35740556e-10, -2.28372195e-09,\n",
       "        -2.19692665e-09, -2.63075046e-10, -1.00813043e-08, -1.36734293e-08,\n",
       "         7.14154115e-09, -6.29219192e-10,  8.32629931e-08, -1.77508887e-09,\n",
       "        -7.20370447e-09, -2.47207414e-09, -5.59525447e-09,  3.20871222e-09,\n",
       "         4.59452078e-09,  1.54644963e-08,  3.83868560e-08, -8.77799388e-09,\n",
       "        -2.07780292e-09, -4.99165361e-09, -7.85597644e-09,  9.45805624e-10,\n",
       "        -1.08923473e-09,  9.31537196e-09,  5.84573659e-09,  2.81325199e-08,\n",
       "         2.77889865e-09,  1.31014892e-08,  6.16988149e-08,  5.02200129e-11,\n",
       "        -6.52986858e-11, -1.85634280e-09, -1.66744172e-08,  2.85295621e-10,\n",
       "         1.08479772e-09,  3.65181745e-09,  9.12215546e-09, -1.25327061e-09,\n",
       "        -2.27421695e-10, -6.58756607e-10, -1.57775630e-09, -2.44002841e-09,\n",
       "         5.58841164e-10, -2.81198338e-10, -4.45271260e-10, -9.91875205e-10,\n",
       "        -4.84822781e-09, -1.78313156e-09, -8.72041721e-09, -4.26461369e-08,\n",
       "        -1.79662986e-09, -8.81960221e-09, -4.32918613e-08, -2.12486318e-07,\n",
       "         1.44619014e-10,  5.99675864e-10,  2.41108088e-09,  9.26221298e-09,\n",
       "         3.30341546e-08,  6.19364191e-11,  2.42053091e-10,  8.84432000e-10,\n",
       "         2.85306312e-09,  6.71284810e-09, -2.76917119e-09,  2.82796354e-11,\n",
       "         1.26667587e-10,  5.39424813e-10,  2.13503370e-09,  7.44358441e-09,\n",
       "         1.91503886e-08, -3.20802837e-09]))"
      ]
     },
     "execution_count": 99,
     "metadata": {},
     "output_type": "execute_result"
    }
   ],
   "source": [
    "poly = PolynomialFeatures(6)\n",
    "new_x = poly.fit_transform(x)\n",
    "lin_model = LinearRegression().fit(new_x,y)\n",
    "coef = lin_model.coef_\n",
    "intercept = lin_model.intercept_\n",
    "lin_model.score(new_x,y), intercept, coef\n",
    "\n"
   ]
  },
  {
   "cell_type": "code",
   "execution_count": null,
   "id": "2ee75c55",
   "metadata": {},
   "outputs": [],
   "source": []
  }
 ],
 "metadata": {
  "kernelspec": {
   "display_name": "Python 3 (ipykernel)",
   "language": "python",
   "name": "python3"
  },
  "language_info": {
   "codemirror_mode": {
    "name": "ipython",
    "version": 3
   },
   "file_extension": ".py",
   "mimetype": "text/x-python",
   "name": "python",
   "nbconvert_exporter": "python",
   "pygments_lexer": "ipython3",
   "version": "3.9.7"
  }
 },
 "nbformat": 4,
 "nbformat_minor": 5
}
