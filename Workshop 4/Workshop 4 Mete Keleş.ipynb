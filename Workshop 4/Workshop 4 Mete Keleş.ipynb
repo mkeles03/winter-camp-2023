{
 "cells": [
  {
   "cell_type": "code",
   "execution_count": 1,
   "id": "8a76ada4",
   "metadata": {},
   "outputs": [],
   "source": [
    "import warnings\n",
    "warnings.filterwarnings('ignore')\n",
    "\n",
    "import torch\n",
    "from torch import nn\n",
    "import torch.nn.functional as F\n",
    "import torch.optim as optim\n",
    "\n",
    "from sklearn.datasets import make_moons\n",
    "from sklearn.preprocessing import StandardScaler\n",
    "from sklearn.model_selection import train_test_split\n",
    "\n",
    "import matplotlib.pyplot as plt\n",
    "from matplotlib.colors import ListedColormap\n",
    "\n",
    "import numpy as np\n",
    "\n",
    "import torchvision.datasets as datasets \n",
    "import torchvision.transforms as transforms\n",
    "import time"
   ]
  },
  {
   "cell_type": "code",
   "execution_count": 2,
   "id": "69adff80",
   "metadata": {},
   "outputs": [
    {
     "name": "stdout",
     "output_type": "stream",
     "text": [
      "Using cuda device\n"
     ]
    }
   ],
   "source": [
    "device = \"cuda\" if torch.cuda.is_available() else \"cpu\"\n",
    "print(\"Using {} device\".format(device))"
   ]
  },
  {
   "cell_type": "markdown",
   "id": "288c9bfd",
   "metadata": {},
   "source": [
    "# MNIST HAND WRITTEN NUMBER"
   ]
  },
  {
   "cell_type": "markdown",
   "id": "3a1f3898",
   "metadata": {},
   "source": [
    "Define various neural network structures with tanh, sigmoid, linear, relu, define number of neurons in each layer and forward the input data to one-hot-coding for numbers 0-9. **You are NOT expected to use Convolution Layers!** <br>\n",
    "*Hint: Input files are 28x28 images.*\n",
    "<br>\n",
    "*Hint: Use .view method in the forward function to make a column vector from 28x28 image*\n"
   ]
  },
  {
   "cell_type": "markdown",
   "id": "79319f0d",
   "metadata": {},
   "source": [
    "In this assignment, you are expected to train your own Neural Network model. You are free to refer to resources online and bogaziciai github repository while constructing your neural network.  "
   ]
  },
  {
   "cell_type": "code",
   "execution_count": 3,
   "id": "6a93ca5f",
   "metadata": {},
   "outputs": [],
   "source": [
    "## Normalization and create a tensor for a training/test set \n",
    "\n",
    "transform = transforms.Compose([transforms.ToTensor(), transforms.Normalize((0.5,), (0.5,))])\n",
    "\n",
    "\n",
    "mnist_trainset = datasets.MNIST(root='./data', train=True, download=True, transform=transform)\n",
    "mnist_testset = datasets.MNIST(root='./data', train=False, download=True, transform=transform)"
   ]
  },
  {
   "cell_type": "code",
   "execution_count": 4,
   "id": "5bffb290",
   "metadata": {},
   "outputs": [
    {
     "data": {
      "text/plain": [
       "Dataset MNIST\n",
       "    Number of datapoints: 60000\n",
       "    Root location: ./data\n",
       "    Split: Train\n",
       "    StandardTransform\n",
       "Transform: Compose(\n",
       "               ToTensor()\n",
       "               Normalize(mean=(0.5,), std=(0.5,))\n",
       "           )"
      ]
     },
     "execution_count": 4,
     "metadata": {},
     "output_type": "execute_result"
    }
   ],
   "source": [
    "mnist_trainset"
   ]
  },
  {
   "cell_type": "markdown",
   "id": "a8ad7237",
   "metadata": {},
   "source": [
    "### Step 1\n",
    "\n",
    "Defining the structure of the neural network."
   ]
  },
  {
   "cell_type": "code",
   "execution_count": 5,
   "id": "d7c8f956",
   "metadata": {},
   "outputs": [],
   "source": [
    "class Net(nn.Module):\n",
    "    def __init__(self):\n",
    "        super().__init__()\n",
    "        self.linear1 = nn.Linear(28*28, 64)\n",
    "        self.linear2 = nn.Linear(64, 64)\n",
    "        self.linear3 = nn.Linear(64, 10)\n",
    "\n",
    "    def forward(self, img):\n",
    "   \n",
    "        out = img.view(img.size(0),-1)\n",
    "    \n",
    "        out = self.linear1(out)\n",
    "        out = F.relu(out)\n",
    "        out = self.linear2(out)\n",
    "        out = F.relu(out)\n",
    "        out = self.linear3(out)\n",
    "        out = F.relu(out)\n",
    "        return out"
   ]
  },
  {
   "cell_type": "markdown",
   "id": "6c8441ba",
   "metadata": {},
   "source": [
    "### Step 2\n",
    "\n",
    "Deciding on the optimizer, number of batches, loss function and the number of epochs"
   ]
  },
  {
   "cell_type": "code",
   "execution_count": 6,
   "id": "5e148da8",
   "metadata": {},
   "outputs": [],
   "source": [
    "model = Net().to(device)\n",
    "\n",
    "create_loss = nn.CrossEntropyLoss()\n",
    "optimizer = optim.Adam(model.parameters(),lr=0.0001)\n",
    "batch_size = 64\n",
    "epoch = 15\n",
    "\n",
    "train_loader = torch.utils.data.DataLoader(mnist_trainset, batch_size=batch_size, shuffle=True)\n",
    "test_loader = torch.utils.data.DataLoader(mnist_testset, batch_size=batch_size, shuffle=True)"
   ]
  },
  {
   "cell_type": "markdown",
   "id": "7b24bb0f",
   "metadata": {},
   "source": [
    "### Step 3\n",
    "Start the training."
   ]
  },
  {
   "cell_type": "code",
   "execution_count": 7,
   "id": "2e30671f",
   "metadata": {
    "scrolled": true
   },
   "outputs": [
    {
     "name": "stdout",
     "output_type": "stream",
     "text": [
      "[1,   100] loss: 2.15710\n",
      "test_loss 306.08734798431396\n",
      "[1,   200] loss: 1.68102\n",
      "test_loss 215.9209669828415\n",
      "[1,   300] loss: 1.15637\n",
      "test_loss 149.18351477384567\n",
      "[1,   400] loss: 0.84408\n",
      "test_loss 113.74951994419098\n",
      "[1,   500] loss: 0.69282\n",
      "test_loss 94.90396827459335\n",
      "[1,   600] loss: 0.59641\n",
      "test_loss 84.09090134501457\n",
      "[1,   700] loss: 0.52681\n",
      "test_loss 76.51666033267975\n",
      "[1,   800] loss: 0.50033\n",
      "test_loss 71.47225603461266\n",
      "[1,   900] loss: 0.45337\n",
      "test_loss 66.37677624821663\n",
      "for this epoch time passed: 40.718982458114624\n",
      "[2,   100] loss: 0.43943\n",
      "test_loss 61.946568071842194\n",
      "[2,   200] loss: 0.41735\n",
      "test_loss 60.19637420773506\n",
      "[2,   300] loss: 0.39188\n",
      "test_loss 57.913996547460556\n",
      "[2,   400] loss: 0.39336\n",
      "test_loss 56.43507780134678\n",
      "[2,   500] loss: 0.38035\n",
      "test_loss 55.61406388878822\n",
      "[2,   600] loss: 0.35630\n",
      "test_loss 54.42714101076126\n",
      "[2,   700] loss: 0.36700\n",
      "test_loss 52.929477751255035\n",
      "[2,   800] loss: 0.34030\n",
      "test_loss 52.27825431525707\n",
      "[2,   900] loss: 0.33548\n",
      "test_loss 50.988947704434395\n",
      "for this epoch time passed: 38.452858209609985\n",
      "[3,   100] loss: 0.33168\n",
      "test_loss 50.19260446727276\n",
      "[3,   200] loss: 0.32583\n",
      "test_loss 49.20706886053085\n",
      "[3,   300] loss: 0.34042\n",
      "test_loss 48.603305011987686\n",
      "[3,   400] loss: 0.32871\n",
      "test_loss 50.11179634928703\n",
      "[3,   500] loss: 0.32283\n",
      "test_loss 47.91886217147112\n",
      "[3,   600] loss: 0.31886\n",
      "test_loss 46.99670169502497\n",
      "[3,   700] loss: 0.30649\n",
      "test_loss 46.36675492674112\n",
      "[3,   800] loss: 0.30377\n",
      "test_loss 45.391807697713375\n",
      "[3,   900] loss: 0.28717\n",
      "test_loss 45.37566042691469\n",
      "for this epoch time passed: 38.31787943840027\n",
      "[4,   100] loss: 0.29764\n",
      "test_loss 44.74366936087608\n",
      "[4,   200] loss: 0.29864\n",
      "test_loss 44.32678363472223\n",
      "[4,   300] loss: 0.29922\n",
      "test_loss 44.067966520786285\n",
      "[4,   400] loss: 0.29614\n",
      "test_loss 43.575342036783695\n",
      "[4,   500] loss: 0.28816\n",
      "test_loss 43.780902698636055\n",
      "[4,   600] loss: 0.29166\n",
      "test_loss 42.64681502431631\n",
      "[4,   700] loss: 0.27314\n",
      "test_loss 42.27278408408165\n",
      "[4,   800] loss: 0.27324\n",
      "test_loss 42.87746100127697\n",
      "[4,   900] loss: 0.28757\n",
      "test_loss 42.06217771023512\n",
      "for this epoch time passed: 37.16306281089783\n",
      "[5,   100] loss: 0.26928\n",
      "test_loss 41.61970825493336\n",
      "[5,   200] loss: 0.28808\n",
      "test_loss 41.44064348936081\n",
      "[5,   300] loss: 0.26684\n",
      "test_loss 40.49495408684015\n",
      "[5,   400] loss: 0.27475\n",
      "test_loss 40.35651320964098\n",
      "[5,   500] loss: 0.26808\n",
      "test_loss 40.726551316678524\n",
      "[5,   600] loss: 0.27466\n",
      "test_loss 39.74249821156263\n",
      "[5,   700] loss: 0.25144\n",
      "test_loss 39.32296612858772\n",
      "[5,   800] loss: 0.25546\n",
      "test_loss 39.92192018777132\n",
      "[5,   900] loss: 0.26172\n",
      "test_loss 39.02186470478773\n",
      "for this epoch time passed: 38.25543975830078\n",
      "[6,   100] loss: 0.23569\n",
      "test_loss 38.75434775650501\n",
      "[6,   200] loss: 0.24721\n",
      "test_loss 37.96298914402723\n",
      "[6,   300] loss: 0.24949\n",
      "test_loss 37.85803071409464\n",
      "[6,   400] loss: 0.24293\n",
      "test_loss 37.19971838593483\n",
      "[6,   500] loss: 0.25329\n",
      "test_loss 38.02787923812866\n",
      "[6,   600] loss: 0.25494\n",
      "test_loss 36.78974224627018\n",
      "[6,   700] loss: 0.25432\n",
      "test_loss 36.87465553730726\n",
      "[6,   800] loss: 0.24464\n",
      "test_loss 36.71309343725443\n",
      "[6,   900] loss: 0.24508\n",
      "test_loss 37.076363407075405\n",
      "for this epoch time passed: 40.61868667602539\n",
      "[7,   100] loss: 0.23580\n",
      "test_loss 36.891277834773064\n",
      "[7,   200] loss: 0.25137\n",
      "test_loss 36.116627879440784\n",
      "[7,   300] loss: 0.23099\n",
      "test_loss 35.25925387814641\n",
      "[7,   400] loss: 0.23786\n",
      "test_loss 35.369786992669106\n",
      "[7,   500] loss: 0.23439\n",
      "test_loss 35.238836996257305\n",
      "[7,   600] loss: 0.23238\n",
      "test_loss 34.50465501099825\n",
      "[7,   700] loss: 0.20516\n",
      "test_loss 34.93275794759393\n",
      "[7,   800] loss: 0.22363\n",
      "test_loss 34.2317266613245\n",
      "[7,   900] loss: 0.21815\n",
      "test_loss 33.52072272449732\n",
      "for this epoch time passed: 40.068575382232666\n",
      "[8,   100] loss: 0.21418\n",
      "test_loss 33.733036655932665\n",
      "[8,   200] loss: 0.20823\n",
      "test_loss 33.847969725728035\n",
      "[8,   300] loss: 0.22044\n",
      "test_loss 33.18809347227216\n",
      "[8,   400] loss: 0.21721\n",
      "test_loss 32.927741285413504\n",
      "[8,   500] loss: 0.22840\n",
      "test_loss 32.49160411581397\n",
      "[8,   600] loss: 0.21723\n",
      "test_loss 32.69859192147851\n",
      "[8,   700] loss: 0.21429\n",
      "test_loss 32.91898909211159\n",
      "[8,   800] loss: 0.21286\n",
      "test_loss 33.23555524647236\n",
      "[8,   900] loss: 0.21651\n",
      "test_loss 32.964977975934744\n",
      "for this epoch time passed: 37.287957191467285\n",
      "[9,   100] loss: 0.22221\n",
      "test_loss 31.48353658989072\n",
      "[9,   200] loss: 0.21277\n",
      "test_loss 31.234713435173035\n",
      "[9,   300] loss: 0.20412\n",
      "test_loss 31.283544193953276\n",
      "[9,   400] loss: 0.19625\n",
      "test_loss 30.95628697797656\n",
      "[9,   500] loss: 0.20022\n",
      "test_loss 32.141397703439\n",
      "[9,   600] loss: 0.19691\n",
      "test_loss 30.88626154884696\n",
      "[9,   700] loss: 0.19616\n",
      "test_loss 30.412954851984978\n",
      "[9,   800] loss: 0.18315\n",
      "test_loss 30.15112517029047\n",
      "[9,   900] loss: 0.21048\n",
      "test_loss 30.12962307035923\n",
      "for this epoch time passed: 41.75442981719971\n",
      "[10,   100] loss: 0.19421\n",
      "test_loss 30.199742294847965\n",
      "[10,   200] loss: 0.18207\n",
      "test_loss 29.855474200099707\n",
      "[10,   300] loss: 0.18134\n",
      "test_loss 29.750640623271465\n",
      "[10,   400] loss: 0.19182\n",
      "test_loss 30.2803221270442\n",
      "[10,   500] loss: 0.19024\n",
      "test_loss 29.81775362417102\n",
      "[10,   600] loss: 0.19312\n",
      "test_loss 29.31647516787052\n",
      "[10,   700] loss: 0.18962\n",
      "test_loss 28.700839260593057\n",
      "[10,   800] loss: 0.19182\n",
      "test_loss 28.836314886808395\n",
      "[10,   900] loss: 0.18875\n",
      "test_loss 28.272850485518575\n",
      "for this epoch time passed: 39.792787075042725\n",
      "[11,   100] loss: 0.19236\n",
      "test_loss 28.549937292933464\n",
      "[11,   200] loss: 0.17812\n",
      "test_loss 28.07742178812623\n",
      "[11,   300] loss: 0.17471\n",
      "test_loss 28.26904614083469\n",
      "[11,   400] loss: 0.17743\n",
      "test_loss 28.391541451215744\n",
      "[11,   500] loss: 0.17541\n",
      "test_loss 27.65889398753643\n",
      "[11,   600] loss: 0.17791\n",
      "test_loss 27.63320341333747\n",
      "[11,   700] loss: 0.17941\n",
      "test_loss 27.570265479385853\n",
      "[11,   800] loss: 0.16697\n",
      "test_loss 27.112104423344135\n",
      "[11,   900] loss: 0.17819\n",
      "test_loss 27.24552160874009\n",
      "for this epoch time passed: 37.04094171524048\n",
      "[12,   100] loss: 0.17394\n",
      "test_loss 27.737625740468502\n",
      "[12,   200] loss: 0.15693\n",
      "test_loss 26.601518094539642\n",
      "[12,   300] loss: 0.16842\n",
      "test_loss 26.96044537052512\n",
      "[12,   400] loss: 0.16960\n",
      "test_loss 26.71648219227791\n",
      "[12,   500] loss: 0.17362\n",
      "test_loss 26.043263882398605\n",
      "[12,   600] loss: 0.17807\n",
      "test_loss 27.00380066409707\n",
      "[12,   700] loss: 0.16816\n",
      "test_loss 26.745470464229584\n",
      "[12,   800] loss: 0.17386\n",
      "test_loss 26.06277448683977\n",
      "[12,   900] loss: 0.15569\n",
      "test_loss 25.911830704659224\n",
      "for this epoch time passed: 37.06653833389282\n",
      "[13,   100] loss: 0.15340\n",
      "test_loss 26.035704232752323\n",
      "[13,   200] loss: 0.15949\n",
      "test_loss 25.511070862412453\n",
      "[13,   300] loss: 0.16939\n",
      "test_loss 25.07470913976431\n",
      "[13,   400] loss: 0.15621\n",
      "test_loss 25.245578737929463\n",
      "[13,   500] loss: 0.16558\n",
      "test_loss 25.837386660277843\n",
      "[13,   600] loss: 0.16305\n",
      "test_loss 25.757201239466667\n",
      "[13,   700] loss: 0.15207\n",
      "test_loss 25.469552025198936\n",
      "[13,   800] loss: 0.16441\n",
      "test_loss 24.84032805263996\n",
      "[13,   900] loss: 0.15980\n",
      "test_loss 25.78853051364422\n",
      "for this epoch time passed: 39.333279609680176\n",
      "[14,   100] loss: 0.13937\n",
      "test_loss 24.701629791408777\n",
      "[14,   200] loss: 0.16088\n",
      "test_loss 24.717555213719606\n",
      "[14,   300] loss: 0.14427\n",
      "test_loss 24.355207284912467\n",
      "[14,   400] loss: 0.13714\n",
      "test_loss 24.41017719730735\n",
      "[14,   500] loss: 0.16009\n",
      "test_loss 24.099224507808685\n",
      "[14,   600] loss: 0.16039\n",
      "test_loss 24.04987796768546\n",
      "[14,   700] loss: 0.14957\n",
      "test_loss 24.548439878970385\n",
      "[14,   800] loss: 0.16283\n",
      "test_loss 24.10365231335163\n",
      "[14,   900] loss: 0.16068\n",
      "test_loss 24.81019826978445\n",
      "for this epoch time passed: 37.09712338447571\n",
      "[15,   100] loss: 0.15330\n",
      "test_loss 23.432786589488387\n",
      "[15,   200] loss: 0.14449\n",
      "test_loss 23.300163071602583\n",
      "[15,   300] loss: 0.15219\n",
      "test_loss 23.887468406930566\n",
      "[15,   400] loss: 0.13405\n",
      "test_loss 24.62134724110365\n",
      "[15,   500] loss: 0.15197\n",
      "test_loss 23.42402326129377\n",
      "[15,   600] loss: 0.14969\n",
      "test_loss 24.20827380940318\n",
      "[15,   700] loss: 0.14647\n",
      "test_loss 23.87578108534217\n",
      "[15,   800] loss: 0.13388\n",
      "test_loss 23.040179895237088\n",
      "[15,   900] loss: 0.13312\n",
      "test_loss 23.075979836285114\n",
      "for this epoch time passed: 37.18132543563843\n",
      "Finished Training\n"
     ]
    }
   ],
   "source": [
    "for epoch in range(epoch):\n",
    "    running_loss = 0.0\n",
    "    start = time.time() #record run TIME\n",
    "    \n",
    "    for i,data in enumerate(train_loader): #In each epoch iterate the training data in the loader\n",
    "        inputs, labels = data\n",
    "        inputs, labels = inputs.to(device), labels.to(device)\n",
    "        \n",
    "        optimizer.zero_grad()  #Sets the gradients of all optimized torch.Tensor s to zero.\n",
    "        output = model(inputs.to(device).view(-1, 28*28))\n",
    "        loss = create_loss(output, labels) #calculate a loss for backpropogation\n",
    "        loss.backward()\n",
    "        optimizer.step()\n",
    "        \n",
    "        running_loss += loss.item()\n",
    "        if i % 100 == 99:    # print every 100 mini-batches\n",
    "            print('[%d, %5d] loss: %.5f' %\n",
    "            (epoch + 1, i + 1, running_loss / 100))\n",
    "            running_loss = 0.0\n",
    "            test_loss = 0\n",
    "            for i, data in enumerate(test_loader):\n",
    "                inputs, labels = data\n",
    "                inputs, labels = inputs.to(device), labels.to(device)\n",
    "                output = model(inputs.to(device).view(-1, 28*28))\n",
    "                loss = create_loss(output, labels)\n",
    "                test_loss += loss.item()\n",
    "            print(\"test_loss\", test_loss)\n",
    "            \n",
    "    end=time.time()\n",
    "    print(\"for this epoch time passed:\", end-start)\n",
    "        \n",
    "print('Finished Training') \n",
    "        "
   ]
  },
  {
   "cell_type": "markdown",
   "id": "27c0e1e7",
   "metadata": {},
   "source": [
    "### Step 4\n",
    "Test your model's accuracy"
   ]
  },
  {
   "cell_type": "code",
   "execution_count": 8,
   "id": "da2341bc",
   "metadata": {},
   "outputs": [
    {
     "name": "stdout",
     "output_type": "stream",
     "text": [
      "accuracy: 0.957\n"
     ]
    }
   ],
   "source": [
    "correct = 0\n",
    "total = 0\n",
    "\n",
    "#Calculate predictions in test data. Call the model. Take the maximum value in one hot coding for 0-9. \n",
    "\n",
    "with torch.no_grad():  #The wrapper with torch.no_grad() temporarily sets all of the requires_grad flags to false\n",
    "    for data in test_loader:\n",
    "        inputs, labels = data\n",
    "        output = model(inputs.to(device).view(-1, 784))\n",
    "        for idx, i in enumerate(output):\n",
    "            if torch.argmax(i) == labels[idx]:\n",
    "                correct +=1\n",
    "            total +=1\n",
    "print(f'accuracy: {round(correct/total, 3)}')"
   ]
  },
  {
   "cell_type": "markdown",
   "id": "1a78a39a",
   "metadata": {},
   "source": [
    "### Step 5\n",
    "\n",
    "Get some training or test data samples to visualize the predictions."
   ]
  },
  {
   "cell_type": "code",
   "execution_count": 9,
   "id": "d6a973b3",
   "metadata": {},
   "outputs": [
    {
     "name": "stdout",
     "output_type": "stream",
     "text": [
      "Batch_Size=  64\n",
      "True Label = 6 \n",
      "True Label = 3 \n",
      "True Label = 2 \n",
      "True Label = 3 \n",
      "True Label = 9 \n"
     ]
    },
    {
     "data": {
      "image/png": "[encoded data removed]",
      "text/plain": [
       "<Figure size 432x288 with 1 Axes>"
      ]
     },
     "metadata": {
      "needs_background": "light"
     },
     "output_type": "display_data"
    },
    {
     "data": {
      "image/png": "[encoded data removed]",
      "text/plain": [
       "<Figure size 432x288 with 1 Axes>"
      ]
     },
     "metadata": {
      "needs_background": "light"
     },
     "output_type": "display_data"
    },
    {
     "data": {
      "image/png": "[encoded data removed]",
      "text/plain": [
       "<Figure size 432x288 with 1 Axes>"
      ]
     },
     "metadata": {
      "needs_background": "light"
     },
     "output_type": "display_data"
    },
    {
     "data": {
      "image/png": "[encoded data removed]",
      "text/plain": [
       "<Figure size 432x288 with 1 Axes>"
      ]
     },
     "metadata": {
      "needs_background": "light"
     },
     "output_type": "display_data"
    },
    {
     "data": {
      "image/png": "[encoded data removed]",
      "text/plain": [
       "<Figure size 432x288 with 1 Axes>"
      ]
     },
     "metadata": {
      "needs_background": "light"
     },
     "output_type": "display_data"
    }
   ],
   "source": [
    "def TakesamplesfromNthBatch(loader,N,model):\n",
    "    \n",
    "    inputsout=[]\n",
    "    labelsout=[]\n",
    "    \n",
    "    for i,data in enumerate(train_loader):\n",
    "        inputs, labels = data\n",
    "        inputsout=inputs.squeeze().numpy()\n",
    "        labelsout=labels.numpy()    \n",
    "           \n",
    "        if i==N:\n",
    "            prediction = model(inputs.to(device).view(-1, 784))\n",
    "            predictionout = np.argmax(prediction.detach().cpu().numpy(),axis=1) \n",
    "            break\n",
    "\n",
    "    return inputsout, labelsout, predictionout\n",
    "\n",
    "trial_input,trial_labels,trial_prediction = TakesamplesfromNthBatch(train_loader,1,model)\n",
    "print('Batch_Size= ', batch_size)\n",
    "\n",
    "numberIntheBatch=0 \n",
    "Nofexamples=5\n",
    "for i in range(Nofexamples):    \n",
    "    \n",
    "    plt.figure()\n",
    "    imgplot = plt.imshow(trial_input[numberIntheBatch])\n",
    "    plt.title(' NN prediction = %i'  %trial_prediction[numberIntheBatch])\n",
    "    print('True Label = %i ' %trial_labels[numberIntheBatch])\n",
    "    numberIntheBatch=numberIntheBatch+1 "
   ]
  }
 ],
 "metadata": {
  "kernelspec": {
   "display_name": "Python 3 (ipykernel)",
   "language": "python",
   "name": "python3"
  },
  "language_info": {
   "codemirror_mode": {
    "name": "ipython",
    "version": 3
   },
   "file_extension": ".py",
   "mimetype": "text/x-python",
   "name": "python",
   "nbconvert_exporter": "python",
   "pygments_lexer": "ipython3",
   "version": "3.9.7"
  }
 },
 "nbformat": 4,
 "nbformat_minor": 5
}
